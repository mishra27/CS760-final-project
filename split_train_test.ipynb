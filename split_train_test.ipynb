{
 "cells": [
  {
   "cell_type": "code",
   "execution_count": 1,
   "metadata": {},
   "outputs": [],
   "source": [
    "import argparse\n",
    "\n",
    "parser = argparse.ArgumentParser()\n",
    "parser.add_argument('--dataset_path', type=str, default='dataset_partition')\n",
    "parser.add_argument('--covid_chestxray_path', type=str, default='data/covid-chestxray-dataset')\n",
    "parser.add_argument('--chest_xray_pneumonia', type=str, default='data/chest-xray-pneumonia')\n",
    "\n",
    "args = parser.parse_args(\"\")"
   ]
  },
  {
   "cell_type": "code",
   "execution_count": 2,
   "metadata": {},
   "outputs": [],
   "source": [
    "import pdb, os, random\n",
    "import pandas as pd\n",
    "from sklearn.model_selection import train_test_split\n",
    "import pickle\n",
    "\n",
    "# makedir\n",
    "def make_dir(dirname, rm=False):\n",
    "    if not os.path.exists(dirname):\n",
    "        os.makedirs(dirname)\n",
    "    elif rm:\n",
    "        print('rm and mkdir ', dirname)\n",
    "        shutil.rmtree(dirname)\n",
    "        os.makedirs(dirname)\n",
    "        \n",
    "make_dir(args.dataset_path)"
   ]
  },
  {
   "cell_type": "markdown",
   "metadata": {},
   "source": [
    "## Covid-19 and Normal Chest X-Ray combined"
   ]
  },
  {
   "cell_type": "code",
   "execution_count": 3,
   "metadata": {},
   "outputs": [],
   "source": [
    "def read_covid_dataset():\n",
    "    metadata_path = os.path.join(args.covid_chestxray_path, 'metadata.csv')\n",
    "    images_dir = os.path.join(args.covid_chestxray_path, 'images')\n",
    "    csv = pd.read_csv(metadata_path)\n",
    "    csv = csv[csv['finding'].str.contains('COVID-19')]\n",
    "    csv = csv[csv['modality'].str.contains('X-ray')]\n",
    "    csv['filename'] = csv['filename'].apply(lambda x : os.path.join(images_dir, x))\n",
    "    csv = csv.drop_duplicates(subset=['filename'])\n",
    "    return csv.to_dict(orient='records')"
   ]
  },
  {
   "cell_type": "code",
   "execution_count": 4,
   "metadata": {},
   "outputs": [],
   "source": [
    "def read_chest_xray_pneumonia():\n",
    "    def get_files(dirpath):\n",
    "        filelist = os.listdir(dirpath)\n",
    "        filelist = [os.path.join(dirpath, f) for f in filelist if os.path.isfile(os.path.join(dirpath, f))]\n",
    "        return filelist\n",
    "    \n",
    "    images_dir_train = os.path.join(args.chest_xray_pneumonia, 'chest_xray/train/NORMAL')\n",
    "    images_dir_test = os.path.join(args.chest_xray_pneumonia, 'chest_xray/test/NORMAL')\n",
    "    train_files = get_files(images_dir_train)\n",
    "    test_files = get_files(images_dir_test)\n",
    "    return train_files, test_files"
   ]
  },
  {
   "cell_type": "code",
   "execution_count": 5,
   "metadata": {},
   "outputs": [],
   "source": [
    "def create_dataset():\n",
    "    positive_all = read_covid_dataset()\n",
    "    negative_train, negative_test = read_chest_xray_pneumonia()\n",
    "    positive_train, positive_test = train_test_split(positive_all, train_size=0.8, shuffle=True)\n",
    "    negative_sample_train = random.sample(negative_train, len(positive_train))\n",
    "    negative_sample_test = random.sample(negative_test, len(positive_test))\n",
    "    \n",
    "    train = []\n",
    "    test = []\n",
    "    for item in positive_train:\n",
    "        ditem = {}\n",
    "        ditem['filename'] = item['filename']\n",
    "        ditem['label'] = 1\n",
    "        train.append(ditem)\n",
    "    \n",
    "    for item in positive_test:\n",
    "        ditem = {}\n",
    "        ditem['filename'] = item['filename']\n",
    "        ditem['label'] = 1\n",
    "        test.append(ditem)\n",
    "    \n",
    "    for item in negative_sample_train:\n",
    "        ditem = {}\n",
    "        ditem['filename'] = item\n",
    "        ditem['label'] = 0\n",
    "        train.append(ditem)\n",
    "    \n",
    "    for item in negative_sample_test:\n",
    "        ditem = {}\n",
    "        ditem['filename'] = item\n",
    "        ditem['label'] = 0\n",
    "        test.append(ditem)\n",
    "        \n",
    "    return train, test\n",
    "\n",
    "def test_pkl(trainfname='train_new.pkl', testfname='test_new.pkl'):\n",
    "    train_pkl = os.path.join(args.dataset_path, trainfname)\n",
    "    test_pkl = os.path.join(args.dataset_path, testfname)\n",
    "    with open(train_pkl, 'rb') as f:\n",
    "        l = pickle.load(f)\n",
    "        random.shuffle(l)\n",
    "        print(len(l))\n",
    "        display(l[:10])\n",
    "    with open(test_pkl, 'rb') as f:\n",
    "        l = pickle.load(f)\n",
    "        random.shuffle(l)\n",
    "        print(len(l))\n",
    "        display(l[:10])\n",
    "\n",
    "def generate_dataset_files():\n",
    "    train, test = create_dataset()\n",
    "    train_pkl = os.path.join(args.dataset_path, 'train_new.pkl')\n",
    "    test_pkl = os.path.join(args.dataset_path, 'test_new.pkl')\n",
    "    pickle.dump(train, open(train_pkl, 'wb'))\n",
    "    pickle.dump(test, open(test_pkl, 'wb'))\n",
    "    "
   ]
  },
  {
   "cell_type": "code",
   "execution_count": 6,
   "metadata": {},
   "outputs": [
    {
     "name": "stdout",
     "output_type": "stream",
     "text": [
      "806\n"
     ]
    },
    {
     "name": "stderr",
     "output_type": "stream",
     "text": [
      "/home/akshay/anaconda3/lib/python3.7/site-packages/sklearn/model_selection/_split.py:2179: FutureWarning: From version 0.21, test_size will always complement train_size unless both are specified.\n",
      "  FutureWarning)\n"
     ]
    },
    {
     "data": {
      "text/plain": [
       "[{'filename': 'data/covid-chestxray-dataset/images/covid-19-pneumonia-evolution-over-a-week-1-day0-PA.jpg',\n",
       "  'label': 1},\n",
       " {'filename': 'data/chest-xray-pneumonia/chest_xray/train/NORMAL/NORMAL2-IM-1333-0001.jpeg',\n",
       "  'label': 0},\n",
       " {'filename': 'data/chest-xray-pneumonia/chest_xray/train/NORMAL/NORMAL2-IM-1027-0001.jpeg',\n",
       "  'label': 0},\n",
       " {'filename': 'data/covid-chestxray-dataset/images/article_river_de7471906e0011eabe5f9363acaf45c4-covid-cxr-2.png',\n",
       "  'label': 1},\n",
       " {'filename': 'data/chest-xray-pneumonia/chest_xray/train/NORMAL/NORMAL2-IM-0530-0001.jpeg',\n",
       "  'label': 0},\n",
       " {'filename': 'data/chest-xray-pneumonia/chest_xray/train/NORMAL/IM-0411-0001.jpeg',\n",
       "  'label': 0},\n",
       " {'filename': 'data/chest-xray-pneumonia/chest_xray/train/NORMAL/NORMAL2-IM-0397-0001.jpeg',\n",
       "  'label': 0},\n",
       " {'filename': 'data/chest-xray-pneumonia/chest_xray/train/NORMAL/NORMAL2-IM-0481-0001.jpeg',\n",
       "  'label': 0},\n",
       " {'filename': 'data/covid-chestxray-dataset/images/A7E260CE-8A00-4C5F-A7F5-27336527A981.jpeg',\n",
       "  'label': 1},\n",
       " {'filename': 'data/chest-xray-pneumonia/chest_xray/train/NORMAL/IM-0217-0001.jpeg',\n",
       "  'label': 0}]"
      ]
     },
     "metadata": {},
     "output_type": "display_data"
    },
    {
     "name": "stdout",
     "output_type": "stream",
     "text": [
      "202\n"
     ]
    },
    {
     "data": {
      "text/plain": [
       "[{'filename': 'data/covid-chestxray-dataset/images/covid-19-pneumonia-progression-and-regression-day13.jpg',\n",
       "  'label': 1},\n",
       " {'filename': 'data/chest-xray-pneumonia/chest_xray/test/NORMAL/NORMAL2-IM-0303-0001.jpeg',\n",
       "  'label': 0},\n",
       " {'filename': 'data/covid-chestxray-dataset/images/all14238-fig-0001-m-c.jpg',\n",
       "  'label': 1},\n",
       " {'filename': 'data/chest-xray-pneumonia/chest_xray/test/NORMAL/NORMAL2-IM-0098-0001.jpeg',\n",
       "  'label': 0},\n",
       " {'filename': 'data/chest-xray-pneumonia/chest_xray/test/NORMAL/IM-0075-0001.jpeg',\n",
       "  'label': 0},\n",
       " {'filename': 'data/chest-xray-pneumonia/chest_xray/test/NORMAL/NORMAL2-IM-0323-0001.jpeg',\n",
       "  'label': 0},\n",
       " {'filename': 'data/chest-xray-pneumonia/chest_xray/test/NORMAL/NORMAL2-IM-0343-0001.jpeg',\n",
       "  'label': 0},\n",
       " {'filename': 'data/chest-xray-pneumonia/chest_xray/test/NORMAL/NORMAL2-IM-0302-0001.jpeg',\n",
       "  'label': 0},\n",
       " {'filename': 'data/chest-xray-pneumonia/chest_xray/test/NORMAL/IM-0028-0001.jpeg',\n",
       "  'label': 0},\n",
       " {'filename': 'data/chest-xray-pneumonia/chest_xray/test/NORMAL/NORMAL2-IM-0207-0001.jpeg',\n",
       "  'label': 0}]"
      ]
     },
     "metadata": {},
     "output_type": "display_data"
    }
   ],
   "source": [
    "\n",
    "# Uncomment to regenerate the dataset\n",
    "generate_dataset_files()\n",
    "test_pkl()"
   ]
  },
  {
   "cell_type": "code",
   "execution_count": null,
   "metadata": {},
   "outputs": [],
   "source": []
  }
 ],
 "metadata": {
  "kernelspec": {
   "display_name": "Python 3",
   "language": "python",
   "name": "python3"
  },
  "language_info": {
   "codemirror_mode": {
    "name": "ipython",
    "version": 3
   },
   "file_extension": ".py",
   "mimetype": "text/x-python",
   "name": "python",
   "nbconvert_exporter": "python",
   "pygments_lexer": "ipython3",
   "version": "3.7.3"
  }
 },
 "nbformat": 4,
 "nbformat_minor": 2
}
