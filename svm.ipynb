{
 "cells": [
  {
   "cell_type": "code",
   "execution_count": 11,
   "metadata": {},
   "outputs": [],
   "source": [
    "import os\n",
    "import numpy as np\n",
    "import cv2\n",
    "import matplotlib.pyplot as plt\n",
    "import pickle\n",
    "import random\n",
    "from sklearn.svm import SVC\n",
    "from sklearn.model_selection import GridSearchCV\n",
    "from sklearn.metrics import classification_report"
   ]
  },
  {
   "cell_type": "code",
   "execution_count": 12,
   "metadata": {},
   "outputs": [],
   "source": [
    "pick = open('dataset_partition/train_new.pkl', 'rb')\n",
    "data = pickle.load(pick)\n",
    "pick.close()\n",
    "\n",
    "random.shuffle(data)\n",
    "X_train = []\n",
    "y_train = []\n",
    "\n",
    "\n",
    "\n",
    "for dictionary in data:\n",
    "    img = cv2.imread(dictionary['filename'],0)\n",
    "\n",
    "    img = cv2.resize(img, (128,128))\n",
    "    \n",
    "    image = np.array(img).flatten()\n",
    "    \n",
    "    X_train.append(image)\n",
    "    y_train.append(dictionary['label'])\n",
    "    "
   ]
  },
  {
   "cell_type": "code",
   "execution_count": 13,
   "metadata": {},
   "outputs": [],
   "source": [
    "pick = open('dataset_partition/test_new.pkl', 'rb')\n",
    "data_test = pickle.load(pick)\n",
    "pick.close()\n",
    "\n",
    "X_test = []\n",
    "y_test = []\n",
    "\n",
    "for dictionary in data_test:\n",
    "    img = cv2.imread(dictionary['filename'],0)\n",
    "    img = cv2.resize(img, (128,128))\n",
    "    \n",
    "    \n",
    "    image = np.array(img).flatten()\n",
    "    \n",
    "    X_test.append(image)\n",
    "    y_test.append(dictionary['label'])\n",
    "    "
   ]
  },
  {
   "cell_type": "code",
   "execution_count": 14,
   "metadata": {},
   "outputs": [
    {
     "data": {
      "text/plain": [
       "SVC(C=1, cache_size=200, class_weight=None, coef0=0.0,\n",
       "  decision_function_shape='ovr', degree=3, gamma='auto', kernel='poly',\n",
       "  max_iter=-1, probability=False, random_state=None, shrinking=True,\n",
       "  tol=0.001, verbose=False)"
      ]
     },
     "execution_count": 14,
     "metadata": {},
     "output_type": "execute_result"
    }
   ],
   "source": [
    "model = SVC(C=1, kernel='poly', gamma='auto')\n",
    "model.fit(X_train, y_train)"
   ]
  },
  {
   "cell_type": "code",
   "execution_count": 15,
   "metadata": {},
   "outputs": [
    {
     "name": "stdout",
     "output_type": "stream",
     "text": [
      "Accuracy:  0.900990099009901\n"
     ]
    }
   ],
   "source": [
    "prediction = model.predict(X_test)\n",
    "accuracy = model.score(X_test, y_test)\n",
    "print('Accuracy: ', accuracy)"
   ]
  },
  {
   "cell_type": "code",
   "execution_count": 16,
   "metadata": {
    "scrolled": true
   },
   "outputs": [
    {
     "name": "stderr",
     "output_type": "stream",
     "text": [
      "/home/akshay/anaconda3/lib/python3.7/site-packages/sklearn/model_selection/_split.py:2053: FutureWarning: You should specify a value for 'cv' instead of relying on the default value. The default value will change from 3 to 5 in version 0.22.\n",
      "  warnings.warn(CV_WARNING, FutureWarning)\n",
      "[Parallel(n_jobs=1)]: Using backend SequentialBackend with 1 concurrent workers.\n"
     ]
    },
    {
     "name": "stdout",
     "output_type": "stream",
     "text": [
      "Fitting 3 folds for each of 25 candidates, totalling 75 fits\n",
      "[CV] C=0.1, gamma=1, kernel=poly .....................................\n",
      "[CV]  C=0.1, gamma=1, kernel=poly, score=0.9666666666666667, total=   0.8s\n",
      "[CV] C=0.1, gamma=1, kernel=poly .....................................\n"
     ]
    },
    {
     "name": "stderr",
     "output_type": "stream",
     "text": [
      "[Parallel(n_jobs=1)]: Done   1 out of   1 | elapsed:    1.3s remaining:    0.0s\n"
     ]
    },
    {
     "name": "stdout",
     "output_type": "stream",
     "text": [
      "[CV]  C=0.1, gamma=1, kernel=poly, score=0.9813432835820896, total=   1.0s\n",
      "[CV] C=0.1, gamma=1, kernel=poly .....................................\n"
     ]
    },
    {
     "name": "stderr",
     "output_type": "stream",
     "text": [
      "[Parallel(n_jobs=1)]: Done   2 out of   2 | elapsed:    3.0s remaining:    0.0s\n"
     ]
    },
    {
     "name": "stdout",
     "output_type": "stream",
     "text": [
      "[CV]  C=0.1, gamma=1, kernel=poly, score=0.9664179104477612, total=   1.0s\n",
      "[CV] C=0.1, gamma=0.1, kernel=poly ...................................\n",
      "[CV]  C=0.1, gamma=0.1, kernel=poly, score=0.9666666666666667, total=   0.8s\n",
      "[CV] C=0.1, gamma=0.1, kernel=poly ...................................\n",
      "[CV]  C=0.1, gamma=0.1, kernel=poly, score=0.9813432835820896, total=   1.0s\n",
      "[CV] C=0.1, gamma=0.1, kernel=poly ...................................\n",
      "[CV]  C=0.1, gamma=0.1, kernel=poly, score=0.9664179104477612, total=   1.0s\n",
      "[CV] C=0.1, gamma=0.01, kernel=poly ..................................\n",
      "[CV]  C=0.1, gamma=0.01, kernel=poly, score=0.9666666666666667, total=   0.8s\n",
      "[CV] C=0.1, gamma=0.01, kernel=poly ..................................\n",
      "[CV]  C=0.1, gamma=0.01, kernel=poly, score=0.9813432835820896, total=   1.0s\n",
      "[CV] C=0.1, gamma=0.01, kernel=poly ..................................\n",
      "[CV]  C=0.1, gamma=0.01, kernel=poly, score=0.9664179104477612, total=   1.1s\n",
      "[CV] C=0.1, gamma=0.001, kernel=poly .................................\n",
      "[CV]  C=0.1, gamma=0.001, kernel=poly, score=0.9666666666666667, total=   0.8s\n",
      "[CV] C=0.1, gamma=0.001, kernel=poly .................................\n",
      "[CV]  C=0.1, gamma=0.001, kernel=poly, score=0.9813432835820896, total=   1.0s\n",
      "[CV] C=0.1, gamma=0.001, kernel=poly .................................\n",
      "[CV]  C=0.1, gamma=0.001, kernel=poly, score=0.9664179104477612, total=   1.0s\n",
      "[CV] C=0.1, gamma=0.0001, kernel=poly ................................\n",
      "[CV]  C=0.1, gamma=0.0001, kernel=poly, score=0.9666666666666667, total=   0.8s\n",
      "[CV] C=0.1, gamma=0.0001, kernel=poly ................................\n",
      "[CV]  C=0.1, gamma=0.0001, kernel=poly, score=0.9813432835820896, total=   1.1s\n",
      "[CV] C=0.1, gamma=0.0001, kernel=poly ................................\n",
      "[CV]  C=0.1, gamma=0.0001, kernel=poly, score=0.9664179104477612, total=   1.1s\n",
      "[CV] C=1, gamma=1, kernel=poly .......................................\n",
      "[CV]  C=1, gamma=1, kernel=poly, score=0.9666666666666667, total=   0.8s\n",
      "[CV] C=1, gamma=1, kernel=poly .......................................\n",
      "[CV]  C=1, gamma=1, kernel=poly, score=0.9813432835820896, total=   1.1s\n",
      "[CV] C=1, gamma=1, kernel=poly .......................................\n",
      "[CV]  C=1, gamma=1, kernel=poly, score=0.9664179104477612, total=   1.1s\n",
      "[CV] C=1, gamma=0.1, kernel=poly .....................................\n",
      "[CV]  C=1, gamma=0.1, kernel=poly, score=0.9666666666666667, total=   0.8s\n",
      "[CV] C=1, gamma=0.1, kernel=poly .....................................\n",
      "[CV]  C=1, gamma=0.1, kernel=poly, score=0.9813432835820896, total=   1.0s\n",
      "[CV] C=1, gamma=0.1, kernel=poly .....................................\n",
      "[CV]  C=1, gamma=0.1, kernel=poly, score=0.9664179104477612, total=   1.0s\n",
      "[CV] C=1, gamma=0.01, kernel=poly ....................................\n",
      "[CV]  C=1, gamma=0.01, kernel=poly, score=0.9666666666666667, total=   0.8s\n",
      "[CV] C=1, gamma=0.01, kernel=poly ....................................\n",
      "[CV]  C=1, gamma=0.01, kernel=poly, score=0.9813432835820896, total=   1.0s\n",
      "[CV] C=1, gamma=0.01, kernel=poly ....................................\n",
      "[CV]  C=1, gamma=0.01, kernel=poly, score=0.9664179104477612, total=   1.0s\n",
      "[CV] C=1, gamma=0.001, kernel=poly ...................................\n",
      "[CV]  C=1, gamma=0.001, kernel=poly, score=0.9666666666666667, total=   0.8s\n",
      "[CV] C=1, gamma=0.001, kernel=poly ...................................\n",
      "[CV]  C=1, gamma=0.001, kernel=poly, score=0.9813432835820896, total=   1.0s\n",
      "[CV] C=1, gamma=0.001, kernel=poly ...................................\n",
      "[CV]  C=1, gamma=0.001, kernel=poly, score=0.9664179104477612, total=   1.0s\n",
      "[CV] C=1, gamma=0.0001, kernel=poly ..................................\n",
      "[CV]  C=1, gamma=0.0001, kernel=poly, score=0.9666666666666667, total=   0.8s\n",
      "[CV] C=1, gamma=0.0001, kernel=poly ..................................\n",
      "[CV]  C=1, gamma=0.0001, kernel=poly, score=0.9813432835820896, total=   1.0s\n",
      "[CV] C=1, gamma=0.0001, kernel=poly ..................................\n",
      "[CV]  C=1, gamma=0.0001, kernel=poly, score=0.9664179104477612, total=   1.0s\n",
      "[CV] C=10, gamma=1, kernel=poly ......................................\n",
      "[CV]  C=10, gamma=1, kernel=poly, score=0.9666666666666667, total=   0.8s\n",
      "[CV] C=10, gamma=1, kernel=poly ......................................\n",
      "[CV]  C=10, gamma=1, kernel=poly, score=0.9813432835820896, total=   1.0s\n",
      "[CV] C=10, gamma=1, kernel=poly ......................................\n",
      "[CV]  C=10, gamma=1, kernel=poly, score=0.9664179104477612, total=   1.0s\n",
      "[CV] C=10, gamma=0.1, kernel=poly ....................................\n",
      "[CV]  C=10, gamma=0.1, kernel=poly, score=0.9666666666666667, total=   0.8s\n",
      "[CV] C=10, gamma=0.1, kernel=poly ....................................\n",
      "[CV]  C=10, gamma=0.1, kernel=poly, score=0.9813432835820896, total=   1.1s\n",
      "[CV] C=10, gamma=0.1, kernel=poly ....................................\n",
      "[CV]  C=10, gamma=0.1, kernel=poly, score=0.9664179104477612, total=   1.1s\n",
      "[CV] C=10, gamma=0.01, kernel=poly ...................................\n",
      "[CV]  C=10, gamma=0.01, kernel=poly, score=0.9666666666666667, total=   0.8s\n",
      "[CV] C=10, gamma=0.01, kernel=poly ...................................\n",
      "[CV]  C=10, gamma=0.01, kernel=poly, score=0.9813432835820896, total=   1.1s\n",
      "[CV] C=10, gamma=0.01, kernel=poly ...................................\n",
      "[CV]  C=10, gamma=0.01, kernel=poly, score=0.9664179104477612, total=   1.0s\n",
      "[CV] C=10, gamma=0.001, kernel=poly ..................................\n",
      "[CV]  C=10, gamma=0.001, kernel=poly, score=0.9666666666666667, total=   0.8s\n",
      "[CV] C=10, gamma=0.001, kernel=poly ..................................\n",
      "[CV]  C=10, gamma=0.001, kernel=poly, score=0.9813432835820896, total=   1.0s\n",
      "[CV] C=10, gamma=0.001, kernel=poly ..................................\n",
      "[CV]  C=10, gamma=0.001, kernel=poly, score=0.9664179104477612, total=   1.0s\n",
      "[CV] C=10, gamma=0.0001, kernel=poly .................................\n",
      "[CV]  C=10, gamma=0.0001, kernel=poly, score=0.9666666666666667, total=   0.8s\n",
      "[CV] C=10, gamma=0.0001, kernel=poly .................................\n",
      "[CV]  C=10, gamma=0.0001, kernel=poly, score=0.9813432835820896, total=   1.0s\n",
      "[CV] C=10, gamma=0.0001, kernel=poly .................................\n",
      "[CV]  C=10, gamma=0.0001, kernel=poly, score=0.9664179104477612, total=   1.0s\n",
      "[CV] C=100, gamma=1, kernel=poly .....................................\n",
      "[CV]  C=100, gamma=1, kernel=poly, score=0.9666666666666667, total=   0.8s\n",
      "[CV] C=100, gamma=1, kernel=poly .....................................\n",
      "[CV]  C=100, gamma=1, kernel=poly, score=0.9813432835820896, total=   1.1s\n",
      "[CV] C=100, gamma=1, kernel=poly .....................................\n",
      "[CV]  C=100, gamma=1, kernel=poly, score=0.9664179104477612, total=   1.1s\n",
      "[CV] C=100, gamma=0.1, kernel=poly ...................................\n",
      "[CV]  C=100, gamma=0.1, kernel=poly, score=0.9666666666666667, total=   0.8s\n",
      "[CV] C=100, gamma=0.1, kernel=poly ...................................\n",
      "[CV]  C=100, gamma=0.1, kernel=poly, score=0.9813432835820896, total=   1.0s\n",
      "[CV] C=100, gamma=0.1, kernel=poly ...................................\n",
      "[CV]  C=100, gamma=0.1, kernel=poly, score=0.9664179104477612, total=   1.1s\n",
      "[CV] C=100, gamma=0.01, kernel=poly ..................................\n",
      "[CV]  C=100, gamma=0.01, kernel=poly, score=0.9666666666666667, total=   0.8s\n",
      "[CV] C=100, gamma=0.01, kernel=poly ..................................\n",
      "[CV]  C=100, gamma=0.01, kernel=poly, score=0.9813432835820896, total=   1.1s\n",
      "[CV] C=100, gamma=0.01, kernel=poly ..................................\n",
      "[CV]  C=100, gamma=0.01, kernel=poly, score=0.9664179104477612, total=   1.0s\n",
      "[CV] C=100, gamma=0.001, kernel=poly .................................\n",
      "[CV]  C=100, gamma=0.001, kernel=poly, score=0.9666666666666667, total=   0.8s\n",
      "[CV] C=100, gamma=0.001, kernel=poly .................................\n",
      "[CV]  C=100, gamma=0.001, kernel=poly, score=0.9813432835820896, total=   1.1s\n",
      "[CV] C=100, gamma=0.001, kernel=poly .................................\n",
      "[CV]  C=100, gamma=0.001, kernel=poly, score=0.9664179104477612, total=   1.0s\n",
      "[CV] C=100, gamma=0.0001, kernel=poly ................................\n",
      "[CV]  C=100, gamma=0.0001, kernel=poly, score=0.9666666666666667, total=   0.8s\n",
      "[CV] C=100, gamma=0.0001, kernel=poly ................................\n"
     ]
    },
    {
     "name": "stdout",
     "output_type": "stream",
     "text": [
      "[CV]  C=100, gamma=0.0001, kernel=poly, score=0.9813432835820896, total=   1.1s\n",
      "[CV] C=100, gamma=0.0001, kernel=poly ................................\n",
      "[CV]  C=100, gamma=0.0001, kernel=poly, score=0.9664179104477612, total=   1.1s\n",
      "[CV] C=1000, gamma=1, kernel=poly ....................................\n",
      "[CV]  C=1000, gamma=1, kernel=poly, score=0.9666666666666667, total=   0.8s\n",
      "[CV] C=1000, gamma=1, kernel=poly ....................................\n",
      "[CV]  C=1000, gamma=1, kernel=poly, score=0.9813432835820896, total=   1.1s\n",
      "[CV] C=1000, gamma=1, kernel=poly ....................................\n",
      "[CV]  C=1000, gamma=1, kernel=poly, score=0.9664179104477612, total=   1.0s\n",
      "[CV] C=1000, gamma=0.1, kernel=poly ..................................\n",
      "[CV]  C=1000, gamma=0.1, kernel=poly, score=0.9666666666666667, total=   0.8s\n",
      "[CV] C=1000, gamma=0.1, kernel=poly ..................................\n",
      "[CV]  C=1000, gamma=0.1, kernel=poly, score=0.9813432835820896, total=   1.0s\n",
      "[CV] C=1000, gamma=0.1, kernel=poly ..................................\n",
      "[CV]  C=1000, gamma=0.1, kernel=poly, score=0.9664179104477612, total=   1.0s\n",
      "[CV] C=1000, gamma=0.01, kernel=poly .................................\n",
      "[CV]  C=1000, gamma=0.01, kernel=poly, score=0.9666666666666667, total=   0.8s\n",
      "[CV] C=1000, gamma=0.01, kernel=poly .................................\n",
      "[CV]  C=1000, gamma=0.01, kernel=poly, score=0.9813432835820896, total=   1.0s\n",
      "[CV] C=1000, gamma=0.01, kernel=poly .................................\n",
      "[CV]  C=1000, gamma=0.01, kernel=poly, score=0.9664179104477612, total=   1.0s\n",
      "[CV] C=1000, gamma=0.001, kernel=poly ................................\n",
      "[CV]  C=1000, gamma=0.001, kernel=poly, score=0.9666666666666667, total=   0.8s\n",
      "[CV] C=1000, gamma=0.001, kernel=poly ................................\n",
      "[CV]  C=1000, gamma=0.001, kernel=poly, score=0.9813432835820896, total=   1.1s\n",
      "[CV] C=1000, gamma=0.001, kernel=poly ................................\n",
      "[CV]  C=1000, gamma=0.001, kernel=poly, score=0.9664179104477612, total=   1.0s\n",
      "[CV] C=1000, gamma=0.0001, kernel=poly ...............................\n",
      "[CV]  C=1000, gamma=0.0001, kernel=poly, score=0.9666666666666667, total=   0.8s\n",
      "[CV] C=1000, gamma=0.0001, kernel=poly ...............................\n",
      "[CV]  C=1000, gamma=0.0001, kernel=poly, score=0.9813432835820896, total=   1.1s\n",
      "[CV] C=1000, gamma=0.0001, kernel=poly ...............................\n",
      "[CV]  C=1000, gamma=0.0001, kernel=poly, score=0.9664179104477612, total=   1.0s\n"
     ]
    },
    {
     "name": "stderr",
     "output_type": "stream",
     "text": [
      "[Parallel(n_jobs=1)]: Done  75 out of  75 | elapsed:  1.9min finished\n"
     ]
    },
    {
     "data": {
      "text/plain": [
       "GridSearchCV(cv='warn', error_score='raise-deprecating',\n",
       "       estimator=SVC(C=1.0, cache_size=200, class_weight=None, coef0=0.0,\n",
       "  decision_function_shape='ovr', degree=3, gamma='auto_deprecated',\n",
       "  kernel='rbf', max_iter=-1, probability=False, random_state=None,\n",
       "  shrinking=True, tol=0.001, verbose=False),\n",
       "       fit_params=None, iid='warn', n_jobs=None,\n",
       "       param_grid={'C': [0.1, 1, 10, 100, 1000], 'gamma': [1, 0.1, 0.01, 0.001, 0.0001], 'kernel': ['poly']},\n",
       "       pre_dispatch='2*n_jobs', refit=True, return_train_score='warn',\n",
       "       scoring=None, verbose=3)"
      ]
     },
     "execution_count": 16,
     "metadata": {},
     "output_type": "execute_result"
    }
   ],
   "source": [
    "param_grid = {'C': [0.1, 1, 10, 100, 1000],  \n",
    "              'gamma': [1, 0.1, 0.01, 0.001, 0.0001], \n",
    "              'kernel': ['poly']}  \n",
    "  \n",
    "grid = GridSearchCV(SVC(), param_grid, refit = True, verbose = 3) \n",
    "  \n",
    "# fitting the model for grid search \n",
    "grid.fit(X_train, y_train)"
   ]
  },
  {
   "cell_type": "code",
   "execution_count": 17,
   "metadata": {},
   "outputs": [
    {
     "name": "stdout",
     "output_type": "stream",
     "text": [
      "{'C': 0.1, 'gamma': 1, 'kernel': 'poly'}\n"
     ]
    }
   ],
   "source": [
    "print(grid.best_params_) \n"
   ]
  },
  {
   "cell_type": "code",
   "execution_count": 18,
   "metadata": {},
   "outputs": [
    {
     "name": "stdout",
     "output_type": "stream",
     "text": [
      "SVC(C=0.1, cache_size=200, class_weight=None, coef0=0.0,\n",
      "  decision_function_shape='ovr', degree=3, gamma=1, kernel='poly',\n",
      "  max_iter=-1, probability=False, random_state=None, shrinking=True,\n",
      "  tol=0.001, verbose=False)\n"
     ]
    }
   ],
   "source": [
    "print(grid.best_estimator_) \n"
   ]
  },
  {
   "cell_type": "code",
   "execution_count": 19,
   "metadata": {
    "scrolled": true
   },
   "outputs": [
    {
     "name": "stdout",
     "output_type": "stream",
     "text": [
      "              precision    recall  f1-score   support\n",
      "\n",
      "           0       0.99      0.81      0.89       101\n",
      "           1       0.84      0.99      0.91       101\n",
      "\n",
      "   micro avg       0.90      0.90      0.90       202\n",
      "   macro avg       0.91      0.90      0.90       202\n",
      "weighted avg       0.91      0.90      0.90       202\n",
      "\n"
     ]
    }
   ],
   "source": [
    "grid_predictions = grid.predict(X_test) \n",
    "  \n",
    "# print classification report \n",
    "print(classification_report(y_test, grid_predictions)) "
   ]
  },
  {
   "cell_type": "code",
   "execution_count": null,
   "metadata": {},
   "outputs": [],
   "source": []
  }
 ],
 "metadata": {
  "kernelspec": {
   "display_name": "Python 3",
   "language": "python",
   "name": "python3"
  },
  "language_info": {
   "codemirror_mode": {
    "name": "ipython",
    "version": 3
   },
   "file_extension": ".py",
   "mimetype": "text/x-python",
   "name": "python",
   "nbconvert_exporter": "python",
   "pygments_lexer": "ipython3",
   "version": "3.7.3"
  }
 },
 "nbformat": 4,
 "nbformat_minor": 2
}
